{
 "cells": [
  {
   "cell_type": "markdown",
   "metadata": {},
   "source": [
    "# Converting .tsv files to .csv "
   ]
  },
  {
   "cell_type": "code",
   "execution_count": 18,
   "metadata": {},
   "outputs": [],
   "source": [
    "import pandas as pd"
   ]
  },
  {
   "cell_type": "code",
   "execution_count": 19,
   "metadata": {},
   "outputs": [],
   "source": [
    "# File paths\n",
    "input_file = '/Users/hunterbecker/Desktop/BootcampRepos/IMDB/Resources/TSV/title.ratings.tsv'\n",
    "# output_file = '/Users/hunterbecker/Desktop/BootcampRepos/IMDB/Resources/CSV/title.ratings.csv'\n",
    "\n",
    "# Read the TSV data into a DataFrame\n",
    "ratings_df = pd.read_csv(input_file, sep='\\t', low_memory=False)  # Read as TSV\n",
    "\n",
    "# # Save to a CSV file\n",
    "# ratings_df.to_csv(output_file, index=False)  # Save as CSV without the index"
   ]
  },
  {
   "cell_type": "code",
   "execution_count": 20,
   "metadata": {},
   "outputs": [],
   "source": [
    "# File paths\n",
    "input_file = '/Users/hunterbecker/Desktop/BootcampRepos/IMDB/Resources/TSV/title.basics.tsv'\n",
    "output_file = '/Users/hunterbecker/Desktop/BootcampRepos/IMDB/Resources/CSV/title.basics.csv'\n",
    "\n",
    "# Read the TSV file, replace '\\N' with NaN, and handle bad lines\n",
    "basics_df = pd.read_csv(input_file, sep='\\t', na_values=['\\\\N'], low_memory=False)\n",
    "\n",
    "# Save the processed DataFrame to a new CSV file\n",
    "basics_df.to_csv(output_file, index=False)\n"
   ]
  },
  {
   "cell_type": "code",
   "execution_count": 21,
   "metadata": {},
   "outputs": [],
   "source": [
    "basics_df1 = basics_df.loc[basics_df['isAdult'] == 0]"
   ]
  },
  {
   "cell_type": "code",
   "execution_count": 22,
   "metadata": {},
   "outputs": [],
   "source": [
    "del basics_df1['isAdult']"
   ]
  },
  {
   "cell_type": "code",
   "execution_count": 23,
   "metadata": {},
   "outputs": [
    {
     "name": "stdout",
     "output_type": "stream",
     "text": [
      "<class 'pandas.core.frame.DataFrame'>\n",
      "Index: 10778866 entries, 0 to 11136778\n",
      "Data columns (total 8 columns):\n",
      " #   Column          Dtype  \n",
      "---  ------          -----  \n",
      " 0   tconst          object \n",
      " 1   titleType       object \n",
      " 2   primaryTitle    object \n",
      " 3   originalTitle   object \n",
      " 4   startYear       float64\n",
      " 5   endYear         float64\n",
      " 6   runtimeMinutes  object \n",
      " 7   genres          object \n",
      "dtypes: float64(2), object(6)\n",
      "memory usage: 740.1+ MB\n"
     ]
    }
   ],
   "source": [
    "basics_df1.info()"
   ]
  },
  {
   "cell_type": "code",
   "execution_count": 24,
   "metadata": {},
   "outputs": [],
   "source": [
    "basics_df2 = basics_df1.loc[basics_df1['startYear'] >= 1939]"
   ]
  },
  {
   "cell_type": "code",
   "execution_count": 25,
   "metadata": {},
   "outputs": [],
   "source": [
    "basics_df2 = basics_df2.astype({'startYear':int}, errors='raise')"
   ]
  },
  {
   "cell_type": "code",
   "execution_count": 26,
   "metadata": {},
   "outputs": [],
   "source": [
    "basics_df3 = basics_df2.loc[basics_df2['titleType'] == 'movie']"
   ]
  },
  {
   "cell_type": "code",
   "execution_count": 27,
   "metadata": {},
   "outputs": [],
   "source": [
    "del basics_df3['titleType']"
   ]
  },
  {
   "cell_type": "code",
   "execution_count": 28,
   "metadata": {},
   "outputs": [],
   "source": [
    "del basics_df3['endYear']"
   ]
  },
  {
   "cell_type": "code",
   "execution_count": 29,
   "metadata": {},
   "outputs": [],
   "source": [
    "basics_df4 = basics_df3.dropna(how = 'any')"
   ]
  },
  {
   "cell_type": "code",
   "execution_count": 30,
   "metadata": {},
   "outputs": [],
   "source": [
    "del basics_df4['originalTitle']"
   ]
  },
  {
   "cell_type": "code",
   "execution_count": 31,
   "metadata": {},
   "outputs": [],
   "source": [
    "basics_df5 = basics_df4.astype({'runtimeMinutes':int}, errors='raise')"
   ]
  },
  {
   "cell_type": "code",
   "execution_count": 32,
   "metadata": {},
   "outputs": [
    {
     "data": {
      "text/html": [
       "<div>\n",
       "<style scoped>\n",
       "    .dataframe tbody tr th:only-of-type {\n",
       "        vertical-align: middle;\n",
       "    }\n",
       "\n",
       "    .dataframe tbody tr th {\n",
       "        vertical-align: top;\n",
       "    }\n",
       "\n",
       "    .dataframe thead th {\n",
       "        text-align: right;\n",
       "    }\n",
       "</style>\n",
       "<table border=\"1\" class=\"dataframe\">\n",
       "  <thead>\n",
       "    <tr style=\"text-align: right;\">\n",
       "      <th></th>\n",
       "      <th>tconst</th>\n",
       "      <th>primaryTitle</th>\n",
       "      <th>startYear</th>\n",
       "      <th>runtimeMinutes</th>\n",
       "      <th>genres</th>\n",
       "    </tr>\n",
       "  </thead>\n",
       "  <tbody>\n",
       "    <tr>\n",
       "      <th>13077</th>\n",
       "      <td>tt0013274</td>\n",
       "      <td>Istoriya grazhdanskoy voyny</td>\n",
       "      <td>2021</td>\n",
       "      <td>94</td>\n",
       "      <td>Documentary</td>\n",
       "    </tr>\n",
       "    <tr>\n",
       "      <th>15480</th>\n",
       "      <td>tt0015724</td>\n",
       "      <td>Dama de noche</td>\n",
       "      <td>1993</td>\n",
       "      <td>102</td>\n",
       "      <td>Drama,Mystery,Romance</td>\n",
       "    </tr>\n",
       "    <tr>\n",
       "      <th>18588</th>\n",
       "      <td>tt0018867</td>\n",
       "      <td>Escape from Hong Kong</td>\n",
       "      <td>1942</td>\n",
       "      <td>60</td>\n",
       "      <td>Adventure,Mystery,War</td>\n",
       "    </tr>\n",
       "    <tr>\n",
       "      <th>21267</th>\n",
       "      <td>tt0021617</td>\n",
       "      <td>Arizona Territory</td>\n",
       "      <td>1950</td>\n",
       "      <td>56</td>\n",
       "      <td>Western</td>\n",
       "    </tr>\n",
       "    <tr>\n",
       "      <th>21704</th>\n",
       "      <td>tt0022064</td>\n",
       "      <td>Lebbra bianca</td>\n",
       "      <td>1951</td>\n",
       "      <td>80</td>\n",
       "      <td>Drama</td>\n",
       "    </tr>\n",
       "  </tbody>\n",
       "</table>\n",
       "</div>"
      ],
      "text/plain": [
       "          tconst                 primaryTitle  startYear  runtimeMinutes  \\\n",
       "13077  tt0013274  Istoriya grazhdanskoy voyny       2021              94   \n",
       "15480  tt0015724                Dama de noche       1993             102   \n",
       "18588  tt0018867        Escape from Hong Kong       1942              60   \n",
       "21267  tt0021617            Arizona Territory       1950              56   \n",
       "21704  tt0022064                Lebbra bianca       1951              80   \n",
       "\n",
       "                      genres  \n",
       "13077            Documentary  \n",
       "15480  Drama,Mystery,Romance  \n",
       "18588  Adventure,Mystery,War  \n",
       "21267                Western  \n",
       "21704                  Drama  "
      ]
     },
     "execution_count": 32,
     "metadata": {},
     "output_type": "execute_result"
    }
   ],
   "source": [
    "basics_df5.head()"
   ]
  },
  {
   "cell_type": "code",
   "execution_count": 33,
   "metadata": {},
   "outputs": [
    {
     "data": {
      "text/plain": [
       "array(['Documentary', 'Drama', 'Mystery', 'Romance', 'Adventure', 'War',\n",
       "       'Western', 'Musical', 'Comedy', 'Thriller', 'Crime', 'Film-Noir',\n",
       "       'History', 'Biography', 'Fantasy', 'Action', 'Sport', 'Family',\n",
       "       'Music', 'Horror', 'Animation', 'Sci-Fi', 'News', 'Talk-Show',\n",
       "       'Reality-TV', 'Game-Show', 'Adult'], dtype=object)"
      ]
     },
     "execution_count": 33,
     "metadata": {},
     "output_type": "execute_result"
    }
   ],
   "source": [
    "# basics_df.head()\n",
    "genres = basics_df5['genres'].str.split(',').explode().unique()\n",
    "genres"
   ]
  },
  {
   "cell_type": "code",
   "execution_count": 34,
   "metadata": {},
   "outputs": [],
   "source": [
    "for genre in genres:\n",
    "    basics_df5[genre] = basics_df5['genres'].str.contains(genre).astype(int)"
   ]
  },
  {
   "cell_type": "code",
   "execution_count": 35,
   "metadata": {},
   "outputs": [],
   "source": [
    "del basics_df5['genres']"
   ]
  },
  {
   "cell_type": "code",
   "execution_count": 36,
   "metadata": {},
   "outputs": [],
   "source": [
    "basics_df6 = basics_df5.rename(columns={'Film-Noir':'FilmNoir','Sci-Fi':'SciFi','Talk-Show':'TalkShow','Reality-TV':'RealityTV','Game-Show':'GameShow'})"
   ]
  },
  {
   "cell_type": "code",
   "execution_count": 37,
   "metadata": {},
   "outputs": [],
   "source": [
    "def remove_single_quotes(text):\n",
    "    if isinstance(text, str):\n",
    "        return text.replace(\"'\", \"\")  # Remove single quotes\n",
    "    return text\n",
    "# Apply the function to remove single quotes\n",
    "basics_df6['primaryTitle'] = basics_df6['primaryTitle'].apply(remove_single_quotes)"
   ]
  },
  {
   "cell_type": "code",
   "execution_count": 40,
   "metadata": {},
   "outputs": [],
   "source": [
    "ratings_df1 = ratings_df[ratings_df['tconst'].isin(basics_df6['tconst'])]"
   ]
  },
  {
   "cell_type": "code",
   "execution_count": 41,
   "metadata": {},
   "outputs": [],
   "source": [
    "basics_df7 = basics_df6[basics_df6['tconst'].isin(ratings_df1['tconst'])]"
   ]
  },
  {
   "cell_type": "code",
   "execution_count": 42,
   "metadata": {},
   "outputs": [],
   "source": [
    "output_file = '/Users/hunterbecker/Desktop/BootcampRepos/IMDB/Resources/CSV/title.basics_clean.csv'\n",
    "\n",
    "# Save the processed DataFrame to a new CSV file\n",
    "basics_df7.to_csv(output_file, index=False)"
   ]
  },
  {
   "cell_type": "code",
   "execution_count": 43,
   "metadata": {},
   "outputs": [],
   "source": [
    "output_file = '/Users/hunterbecker/Desktop/BootcampRepos/IMDB/Resources/CSV/title.ratings_clean.csv'\n",
    "\n",
    "# Save the processed DataFrame to a new CSV file\n",
    "ratings_df1.to_csv(output_file, index=False)"
   ]
  },
  {
   "cell_type": "markdown",
   "metadata": {},
   "source": [
    "# Enter data into postgres using the table schema found in the repo "
   ]
  },
  {
   "cell_type": "code",
   "execution_count": 2,
   "metadata": {},
   "outputs": [],
   "source": [
    "from sqlalchemy import create_engine\n",
    "import psycopg2\n",
    "import pandas as pd\n",
    "from config import engine_key\n",
    "\n",
    "engine = create_engine('postgresql+psycopg2://{engine_key}')\n",
    "conn = engine.connect()\n"
   ]
  },
  {
   "cell_type": "code",
   "execution_count": 3,
   "metadata": {},
   "outputs": [],
   "source": [
    "# Query All Records in the the Database\n",
    "title_basics = pd.read_sql(\"SELECT * FROM title_basics\", conn)"
   ]
  },
  {
   "cell_type": "code",
   "execution_count": 4,
   "metadata": {},
   "outputs": [],
   "source": [
    "# Query All Records in the the Database\n",
    "title_ratings = pd.read_sql(\"SELECT * FROM title_ratings\", conn)"
   ]
  },
  {
   "cell_type": "code",
   "execution_count": 5,
   "metadata": {},
   "outputs": [],
   "source": [
    "#merge ratings and basics dataframes\n",
    "imdb_df = pd.merge(title_basics,title_ratings,on='tconst')"
   ]
  },
  {
   "cell_type": "code",
   "execution_count": 6,
   "metadata": {},
   "outputs": [],
   "source": [
    "# Reordering columns \n",
    "new_imdb_df = imdb_df[['tconst', 'primarytitle', 'startyear', 'runtimeminutes','averagerating','numvotes', 'documentary',\n",
    "       'drama', 'mystery', 'romance', 'adventure', 'war', 'western', 'musical',\n",
    "       'comedy', 'thriller', 'crime', 'filmnoir', 'history', 'biography',\n",
    "       'fantasy', 'action', 'sport', 'family', 'music', 'horror', 'animation',\n",
    "       'scifi', 'news', 'talkshow', 'realitytv', 'gameshow', 'adult']]"
   ]
  },
  {
   "cell_type": "code",
   "execution_count": 7,
   "metadata": {},
   "outputs": [
    {
     "data": {
      "text/html": [
       "<div>\n",
       "<style scoped>\n",
       "    .dataframe tbody tr th:only-of-type {\n",
       "        vertical-align: middle;\n",
       "    }\n",
       "\n",
       "    .dataframe tbody tr th {\n",
       "        vertical-align: top;\n",
       "    }\n",
       "\n",
       "    .dataframe thead th {\n",
       "        text-align: right;\n",
       "    }\n",
       "</style>\n",
       "<table border=\"1\" class=\"dataframe\">\n",
       "  <thead>\n",
       "    <tr style=\"text-align: right;\">\n",
       "      <th></th>\n",
       "      <th>tconst</th>\n",
       "      <th>primarytitle</th>\n",
       "      <th>startyear</th>\n",
       "      <th>runtimeminutes</th>\n",
       "      <th>averagerating</th>\n",
       "      <th>numvotes</th>\n",
       "      <th>documentary</th>\n",
       "      <th>drama</th>\n",
       "      <th>mystery</th>\n",
       "      <th>romance</th>\n",
       "      <th>...</th>\n",
       "      <th>family</th>\n",
       "      <th>music</th>\n",
       "      <th>horror</th>\n",
       "      <th>animation</th>\n",
       "      <th>scifi</th>\n",
       "      <th>news</th>\n",
       "      <th>talkshow</th>\n",
       "      <th>realitytv</th>\n",
       "      <th>gameshow</th>\n",
       "      <th>adult</th>\n",
       "    </tr>\n",
       "  </thead>\n",
       "  <tbody>\n",
       "    <tr>\n",
       "      <th>0</th>\n",
       "      <td>tt0013274</td>\n",
       "      <td>Istoriya grazhdanskoy voyny</td>\n",
       "      <td>2021</td>\n",
       "      <td>94</td>\n",
       "      <td>6.7</td>\n",
       "      <td>74</td>\n",
       "      <td>True</td>\n",
       "      <td>False</td>\n",
       "      <td>False</td>\n",
       "      <td>False</td>\n",
       "      <td>...</td>\n",
       "      <td>False</td>\n",
       "      <td>False</td>\n",
       "      <td>False</td>\n",
       "      <td>False</td>\n",
       "      <td>False</td>\n",
       "      <td>False</td>\n",
       "      <td>False</td>\n",
       "      <td>False</td>\n",
       "      <td>False</td>\n",
       "      <td>False</td>\n",
       "    </tr>\n",
       "    <tr>\n",
       "      <th>1</th>\n",
       "      <td>tt0015724</td>\n",
       "      <td>Dama de noche</td>\n",
       "      <td>1993</td>\n",
       "      <td>102</td>\n",
       "      <td>6.3</td>\n",
       "      <td>31</td>\n",
       "      <td>False</td>\n",
       "      <td>True</td>\n",
       "      <td>True</td>\n",
       "      <td>True</td>\n",
       "      <td>...</td>\n",
       "      <td>False</td>\n",
       "      <td>False</td>\n",
       "      <td>False</td>\n",
       "      <td>False</td>\n",
       "      <td>False</td>\n",
       "      <td>False</td>\n",
       "      <td>False</td>\n",
       "      <td>False</td>\n",
       "      <td>False</td>\n",
       "      <td>False</td>\n",
       "    </tr>\n",
       "    <tr>\n",
       "      <th>2</th>\n",
       "      <td>tt0018867</td>\n",
       "      <td>Escape from Hong Kong</td>\n",
       "      <td>1942</td>\n",
       "      <td>60</td>\n",
       "      <td>5.6</td>\n",
       "      <td>46</td>\n",
       "      <td>False</td>\n",
       "      <td>False</td>\n",
       "      <td>True</td>\n",
       "      <td>False</td>\n",
       "      <td>...</td>\n",
       "      <td>False</td>\n",
       "      <td>False</td>\n",
       "      <td>False</td>\n",
       "      <td>False</td>\n",
       "      <td>False</td>\n",
       "      <td>False</td>\n",
       "      <td>False</td>\n",
       "      <td>False</td>\n",
       "      <td>False</td>\n",
       "      <td>False</td>\n",
       "    </tr>\n",
       "    <tr>\n",
       "      <th>3</th>\n",
       "      <td>tt0021617</td>\n",
       "      <td>Arizona Territory</td>\n",
       "      <td>1950</td>\n",
       "      <td>56</td>\n",
       "      <td>6.1</td>\n",
       "      <td>62</td>\n",
       "      <td>False</td>\n",
       "      <td>False</td>\n",
       "      <td>False</td>\n",
       "      <td>False</td>\n",
       "      <td>...</td>\n",
       "      <td>False</td>\n",
       "      <td>False</td>\n",
       "      <td>False</td>\n",
       "      <td>False</td>\n",
       "      <td>False</td>\n",
       "      <td>False</td>\n",
       "      <td>False</td>\n",
       "      <td>False</td>\n",
       "      <td>False</td>\n",
       "      <td>False</td>\n",
       "    </tr>\n",
       "    <tr>\n",
       "      <th>4</th>\n",
       "      <td>tt0022064</td>\n",
       "      <td>Lebbra bianca</td>\n",
       "      <td>1951</td>\n",
       "      <td>80</td>\n",
       "      <td>5.2</td>\n",
       "      <td>62</td>\n",
       "      <td>False</td>\n",
       "      <td>True</td>\n",
       "      <td>False</td>\n",
       "      <td>False</td>\n",
       "      <td>...</td>\n",
       "      <td>False</td>\n",
       "      <td>False</td>\n",
       "      <td>False</td>\n",
       "      <td>False</td>\n",
       "      <td>False</td>\n",
       "      <td>False</td>\n",
       "      <td>False</td>\n",
       "      <td>False</td>\n",
       "      <td>False</td>\n",
       "      <td>False</td>\n",
       "    </tr>\n",
       "  </tbody>\n",
       "</table>\n",
       "<p>5 rows × 33 columns</p>\n",
       "</div>"
      ],
      "text/plain": [
       "      tconst                 primarytitle  startyear  runtimeminutes  \\\n",
       "0  tt0013274  Istoriya grazhdanskoy voyny       2021              94   \n",
       "1  tt0015724                Dama de noche       1993             102   \n",
       "2  tt0018867        Escape from Hong Kong       1942              60   \n",
       "3  tt0021617            Arizona Territory       1950              56   \n",
       "4  tt0022064                Lebbra bianca       1951              80   \n",
       "\n",
       "   averagerating  numvotes  documentary  drama  mystery  romance  ...  family  \\\n",
       "0            6.7        74         True  False    False    False  ...   False   \n",
       "1            6.3        31        False   True     True     True  ...   False   \n",
       "2            5.6        46        False  False     True    False  ...   False   \n",
       "3            6.1        62        False  False    False    False  ...   False   \n",
       "4            5.2        62        False   True    False    False  ...   False   \n",
       "\n",
       "   music  horror  animation  scifi   news  talkshow  realitytv  gameshow  \\\n",
       "0  False   False      False  False  False     False      False     False   \n",
       "1  False   False      False  False  False     False      False     False   \n",
       "2  False   False      False  False  False     False      False     False   \n",
       "3  False   False      False  False  False     False      False     False   \n",
       "4  False   False      False  False  False     False      False     False   \n",
       "\n",
       "   adult  \n",
       "0  False  \n",
       "1  False  \n",
       "2  False  \n",
       "3  False  \n",
       "4  False  \n",
       "\n",
       "[5 rows x 33 columns]"
      ]
     },
     "execution_count": 7,
     "metadata": {},
     "output_type": "execute_result"
    }
   ],
   "source": [
    "new_imdb_df.head()"
   ]
  },
  {
   "cell_type": "code",
   "execution_count": 8,
   "metadata": {},
   "outputs": [
    {
     "ename": "KeyboardInterrupt",
     "evalue": "",
     "output_type": "error",
     "traceback": [
      "\u001b[0;31m---------------------------------------------------------------------------\u001b[0m",
      "\u001b[0;31mKeyboardInterrupt\u001b[0m                         Traceback (most recent call last)",
      "Cell \u001b[0;32mIn[8], line 76\u001b[0m\n\u001b[1;32m     73\u001b[0m update_treeview()  \u001b[38;5;66;03m# Show all data initially\u001b[39;00m\n\u001b[1;32m     75\u001b[0m \u001b[38;5;66;03m# Run the application\u001b[39;00m\n\u001b[0;32m---> 76\u001b[0m \u001b[43mroot\u001b[49m\u001b[38;5;241;43m.\u001b[39;49m\u001b[43mmainloop\u001b[49m\u001b[43m(\u001b[49m\u001b[43m)\u001b[49m\n",
      "File \u001b[0;32m/opt/anaconda3/envs/dev/lib/python3.10/tkinter/__init__.py:1458\u001b[0m, in \u001b[0;36mMisc.mainloop\u001b[0;34m(self, n)\u001b[0m\n\u001b[1;32m   1456\u001b[0m \u001b[38;5;28;01mdef\u001b[39;00m \u001b[38;5;21mmainloop\u001b[39m(\u001b[38;5;28mself\u001b[39m, n\u001b[38;5;241m=\u001b[39m\u001b[38;5;241m0\u001b[39m):\n\u001b[1;32m   1457\u001b[0m \u001b[38;5;250m    \u001b[39m\u001b[38;5;124;03m\"\"\"Call the mainloop of Tk.\"\"\"\u001b[39;00m\n\u001b[0;32m-> 1458\u001b[0m     \u001b[38;5;28;43mself\u001b[39;49m\u001b[38;5;241;43m.\u001b[39;49m\u001b[43mtk\u001b[49m\u001b[38;5;241;43m.\u001b[39;49m\u001b[43mmainloop\u001b[49m\u001b[43m(\u001b[49m\u001b[43mn\u001b[49m\u001b[43m)\u001b[49m\n",
      "\u001b[0;31mKeyboardInterrupt\u001b[0m: "
     ]
    }
   ],
   "source": [
    "import tkinter as tk\n",
    "from tkinter import filedialog, messagebox, ttk\n",
    "# Function to update the Treeview based on filter\n",
    "def update_treeview(filter_column=None, filter_value=None, sort_order=None):\n",
    "    for row in treeview.get_children():\n",
    "        treeview.delete(row)  # Clear existing rows\n",
    "    \n",
    "    filtered_df = new_imdb_df.copy()\n",
    "    \n",
    "    # Apply filter if specified\n",
    "    if filter_column and filter_value:\n",
    "        filtered_df = filtered_df[filtered_df[filter_column].astype(str).str.contains(filter_value, case=False, na=False)]\n",
    "    \n",
    "    # Apply sorting if specified\n",
    "    if sort_order:\n",
    "        filtered_df = filtered_df.sort_values(by=filter_column, ascending=(sort_order == 'Ascending'))\n",
    "    \n",
    "    for _, row in filtered_df.iterrows():\n",
    "        treeview.insert('', 'end', values=list(row))\n",
    "\n",
    "# Set up the GUI\n",
    "root = tk.Tk()\n",
    "root.title(\"Basics DataFrame Viewer\")\n",
    "\n",
    "# Create a frame for the filter\n",
    "filter_frame = ttk.Frame(root)\n",
    "filter_frame.pack(pady=10)\n",
    "\n",
    "# Column to filter\n",
    "filter_label = tk.Label(filter_frame, text=\"Filter Column:\")\n",
    "filter_label.grid(row=0, column=0)\n",
    "\n",
    "filter_column = ttk.Combobox(filter_frame, values=new_imdb_df.columns.tolist())\n",
    "filter_column.grid(row=0, column=1)\n",
    "\n",
    "# Entry for filter value\n",
    "filter_value_label = tk.Label(filter_frame, text=\"Filter Value:\")\n",
    "filter_value_label.grid(row=0, column=2)\n",
    "\n",
    "filter_value = tk.Entry(filter_frame)\n",
    "filter_value.grid(row=0, column=3)\n",
    "\n",
    "# Button to apply filter\n",
    "filter_button = tk.Button(filter_frame, text=\"Apply Filter\", command=lambda: update_treeview(filter_column.get(), filter_value.get(), None))\n",
    "filter_button.grid(row=0, column=4)\n",
    "\n",
    "# Sort buttons\n",
    "sort_frame = ttk.Frame(root)\n",
    "sort_frame.pack(pady=10)\n",
    "\n",
    "sort_label = tk.Label(sort_frame, text=\"Sort By:\")\n",
    "sort_label.grid(row=0, column=0)\n",
    "\n",
    "sort_column = ttk.Combobox(sort_frame, values=new_imdb_df.columns.tolist())\n",
    "sort_column.grid(row=0, column=1)\n",
    "\n",
    "ascending_button = tk.Button(sort_frame, text=\"Sort Ascending\", command=lambda: update_treeview(sort_column.get(), None, 'Ascending'))\n",
    "ascending_button.grid(row=0, column=2)\n",
    "\n",
    "descending_button = tk.Button(sort_frame, text=\"Sort Descending\", command=lambda: update_treeview(sort_column.get(), None, 'Descending'))\n",
    "descending_button.grid(row=0, column=3)\n",
    "\n",
    "# Create the Treeview\n",
    "treeview = ttk.Treeview(root, columns=list(new_imdb_df.columns), show='headings')\n",
    "treeview.pack(fill='both', expand=True)\n",
    "\n",
    "# Set column headings and widths\n",
    "for column in new_imdb_df.columns:\n",
    "    treeview.heading(column, text=column)\n",
    "    treeview.column(column, anchor='center', width=100)  # Adjust width here\n",
    "\n",
    "# Populate the Treeview with the initial data\n",
    "update_treeview()  # Show all data initially\n",
    "\n",
    "# Run the application\n",
    "root.mainloop()"
   ]
  },
  {
   "cell_type": "code",
   "execution_count": null,
   "metadata": {},
   "outputs": [],
   "source": []
  }
 ],
 "metadata": {
  "kernelspec": {
   "display_name": "dev",
   "language": "python",
   "name": "python3"
  },
  "language_info": {
   "codemirror_mode": {
    "name": "ipython",
    "version": 3
   },
   "file_extension": ".py",
   "mimetype": "text/x-python",
   "name": "python",
   "nbconvert_exporter": "python",
   "pygments_lexer": "ipython3",
   "version": "3.10.14"
  }
 },
 "nbformat": 4,
 "nbformat_minor": 2
}
